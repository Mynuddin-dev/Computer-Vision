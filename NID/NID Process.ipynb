{
 "cells": [
  {
   "cell_type": "code",
   "execution_count": 24,
   "id": "8a0e6399",
   "metadata": {
    "scrolled": false
   },
   "outputs": [
    {
     "name": "stdout",
     "output_type": "stream",
     "text": [
      "Requirement already satisfied: pytesseract in /home/myn/ComputerVision_env/lib/python3.10/site-packages (0.3.9)\r\n",
      "Requirement already satisfied: packaging>=21.3 in /home/myn/ComputerVision_env/lib/python3.10/site-packages (from pytesseract) (21.3)\r\n",
      "Requirement already satisfied: Pillow>=8.0.0 in /home/myn/ComputerVision_env/lib/python3.10/site-packages (from pytesseract) (9.1.1)\r\n",
      "Requirement already satisfied: pyparsing!=3.0.5,>=2.0.2 in /home/myn/ComputerVision_env/lib/python3.10/site-packages (from packaging>=21.3->pytesseract) (3.0.9)\r\n"
     ]
    }
   ],
   "source": [
    "!pip install pytesseract"
   ]
  },
  {
   "cell_type": "code",
   "execution_count": 25,
   "id": "3be0dffd",
   "metadata": {},
   "outputs": [
    {
     "name": "stdout",
     "output_type": "stream",
     "text": [
      "Requirement already satisfied: scikit-image in /home/myn/ComputerVision_env/lib/python3.10/site-packages (0.19.3)\n",
      "Requirement already satisfied: packaging>=20.0 in /home/myn/ComputerVision_env/lib/python3.10/site-packages (from scikit-image) (21.3)\n",
      "Requirement already satisfied: networkx>=2.2 in /home/myn/ComputerVision_env/lib/python3.10/site-packages (from scikit-image) (2.8.4)\n",
      "Requirement already satisfied: pillow!=7.1.0,!=7.1.1,!=8.3.0,>=6.1.0 in /home/myn/ComputerVision_env/lib/python3.10/site-packages (from scikit-image) (9.1.1)\n",
      "Requirement already satisfied: imageio>=2.4.1 in /home/myn/ComputerVision_env/lib/python3.10/site-packages (from scikit-image) (2.19.3)\n",
      "Requirement already satisfied: PyWavelets>=1.1.1 in /home/myn/ComputerVision_env/lib/python3.10/site-packages (from scikit-image) (1.3.0)\n",
      "Requirement already satisfied: scipy>=1.4.1 in /home/myn/ComputerVision_env/lib/python3.10/site-packages (from scikit-image) (1.8.1)\n",
      "Requirement already satisfied: tifffile>=2019.7.26 in /home/myn/ComputerVision_env/lib/python3.10/site-packages (from scikit-image) (2022.5.4)\n",
      "Requirement already satisfied: numpy>=1.17.0 in /home/myn/ComputerVision_env/lib/python3.10/site-packages (from scikit-image) (1.22.4)\n",
      "Requirement already satisfied: pyparsing!=3.0.5,>=2.0.2 in /home/myn/ComputerVision_env/lib/python3.10/site-packages (from packaging>=20.0->scikit-image) (3.0.9)\n"
     ]
    }
   ],
   "source": [
    "!pip install scikit-image"
   ]
  },
  {
   "cell_type": "code",
   "execution_count": 45,
   "id": "f660b6fd",
   "metadata": {},
   "outputs": [],
   "source": [
    "import cv2\n",
    "import imutils\n",
    "from skimage.filters import threshold_local\n",
    "from pyimagesearch.transform import four_point_transform\n",
    "import numpy as np\n"
   ]
  },
  {
   "cell_type": "code",
   "execution_count": 46,
   "id": "bf3a0f47",
   "metadata": {},
   "outputs": [],
   "source": [
    "\n",
    "import matplotlib.pyplot as plt\n",
    "import os\n",
    "import pytesseract\n",
    "%matplotlib inline"
   ]
  },
  {
   "cell_type": "code",
   "execution_count": 60,
   "id": "f8f04dfa",
   "metadata": {},
   "outputs": [],
   "source": [
    "img_path = 'dollar_bill.jpeg'\n",
    "big_img = cv2.imread(img_path)\n",
    "cv2.imshow('org img',big_img)\n",
    "cv2.waitKey(0)\n",
    "cv2.destroyAllWindows()"
   ]
  },
  {
   "cell_type": "code",
   "execution_count": 61,
   "id": "2f807dab",
   "metadata": {},
   "outputs": [
    {
     "data": {
      "text/plain": [
       "(2448, 3264, 3)"
      ]
     },
     "execution_count": 61,
     "metadata": {},
     "output_type": "execute_result"
    }
   ],
   "source": [
    "big_img.shape"
   ]
  },
  {
   "cell_type": "code",
   "execution_count": 62,
   "id": "37350fd4",
   "metadata": {},
   "outputs": [
    {
     "name": "stdout",
     "output_type": "stream",
     "text": [
      "Requirement already satisfied: imutils in /home/myn/ComputerVision_env/lib/python3.10/site-packages (0.5.4)\r\n"
     ]
    }
   ],
   "source": [
    "!pip install imutils\n",
    "import imutils"
   ]
  },
  {
   "cell_type": "code",
   "execution_count": 63,
   "id": "05ac66dd",
   "metadata": {},
   "outputs": [],
   "source": [
    "ratio = big_img.shape[0] / 500.0\n",
    "org = big_img.copy()\n",
    "img = imutils.resize(big_img, height = 500)\n",
    "cv2.imshow('resizing',img)\n",
    "cv2.waitKey(0)\n",
    "cv2.destroyAllWindows()"
   ]
  },
  {
   "cell_type": "code",
   "execution_count": 64,
   "id": "16f09796",
   "metadata": {},
   "outputs": [],
   "source": [
    "\n",
    "gray_img = cv2.cvtColor(img.copy(),cv2.COLOR_BGR2GRAY)\n",
    "blur_img = cv2.GaussianBlur(gray_img,(5,5),0)\n",
    "edged_img = cv2.Canny(blur_img,75,200)\n",
    "# edged_img = cv2.Canny(gray_img,75,200)\n",
    "\n",
    "\n",
    "cv2.imshow('edged',edged_img)\n",
    "cv2.imshow('Gray',gray_img)\n",
    "# cv2.imshow('Blur',blur_img)\n",
    "\n",
    "\n",
    "cv2.waitKey(0)\n",
    "cv2.destroyAllWindows()\n"
   ]
  },
  {
   "cell_type": "code",
   "execution_count": 65,
   "id": "400f9a4b",
   "metadata": {},
   "outputs": [],
   "source": [
    "cnts,_ = cv2.findContours(edged_img.copy(),cv2.RETR_LIST,cv2.CHAIN_APPROX_SIMPLE)\n",
    "# cnts = imutils.grab_contours(cnts)\n",
    "cnts = sorted(cnts,key=cv2.contourArea,reverse=True)[:5]\n",
    "\n",
    "for c in cnts:\n",
    "    peri = cv2.arcLength(c,True)\n",
    "    approx = cv2.approxPolyDP(c,0.02*peri,True)\n",
    "    if len(approx)==4:\n",
    "        doc = approx\n",
    "        break\n",
    "        \n",
    "        \n",
    "p=[]\n",
    "for d in doc:\n",
    "    tuple_point = tuple(d[0])\n",
    "    cv2.circle(img,tuple_point,3,(0,0,255),4)\n",
    "    p.append(tuple_point)\n",
    "cv2.imshow('Corner points detected',img)\n",
    "cv2.waitKey(0)\n",
    "cv2.destroyAllWindows()\n"
   ]
  },
  {
   "cell_type": "code",
   "execution_count": 66,
   "id": "355d447e",
   "metadata": {},
   "outputs": [],
   "source": [
    "warped = four_point_transform(org, doc.reshape(4, 2) * ratio)\n",
    "# warped = cv2.cvtColor(warped, cv2.COLOR_BGR2GRAY)\n",
    "cv2.imshow(\"Warped\", imutils.resize(warped, height = 650))\n",
    "cv2.waitKey(0)\n",
    "\n",
    "# cv2.imwrite(\"Receipt.jpg\" , warped )\n",
    "# T = threshold_local(warped, 11, offset = 10, method = \"gaussian\")\n",
    "# warped = (warped > T).astype(\"uint8\") * 255\n",
    "# cv2.imshow(\"Scanned\", imutils.resize(warped, height = 650))\n",
    "\n",
    "# cv2.waitKey(0)\n",
    "cv2.destroyAllWindows()"
   ]
  },
  {
   "cell_type": "code",
   "execution_count": 68,
   "id": "5254e0cf",
   "metadata": {},
   "outputs": [],
   "source": [
    "import numpy as np\n",
    "import cv2\n",
    "\n",
    "big_img = cv2.imread('NID_front.jpg')\n",
    "\n",
    "ratio = big_img.shape[0] / 500.0\n",
    "org = big_img.copy()\n",
    "img = imutils.resize(big_img, height = 500)\n",
    "cv2.imshow('resizing',img)\n",
    "gray = cv2.cvtColor(img, cv2.COLOR_BGR2GRAY)\n",
    "\n",
    "corners = cv2.goodFeaturesToTrack(gray, 200, 0.01, 10)\n",
    "\n",
    "corners = np.int0(corners)\n",
    "\n",
    "for i in corners:\n",
    "    x, y = i.ravel()\n",
    "    cv2.circle(img, (x, y), 3, [255, 255, 0], -1)\n",
    "\n",
    "cv2.imshow('Shi-Tomasi Corner Detector', img)\n",
    "\n",
    "cv2.waitKey(0)\n",
    "cv2.destroyAllWindows()"
   ]
  },
  {
   "cell_type": "code",
   "execution_count": null,
   "id": "047e56a2",
   "metadata": {},
   "outputs": [],
   "source": []
  }
 ],
 "metadata": {
  "kernelspec": {
   "display_name": "Python 3 (ipykernel)",
   "language": "python",
   "name": "python3"
  },
  "language_info": {
   "codemirror_mode": {
    "name": "ipython",
    "version": 3
   },
   "file_extension": ".py",
   "mimetype": "text/x-python",
   "name": "python",
   "nbconvert_exporter": "python",
   "pygments_lexer": "ipython3",
   "version": "3.10.4"
  }
 },
 "nbformat": 4,
 "nbformat_minor": 5
}
