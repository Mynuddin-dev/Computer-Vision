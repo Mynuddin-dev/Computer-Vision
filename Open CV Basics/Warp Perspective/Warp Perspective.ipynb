{
 "cells": [
  {
   "cell_type": "code",
   "execution_count": 1,
   "id": "e21619c5",
   "metadata": {},
   "outputs": [],
   "source": [
    "import cv2\n",
    "import numpy as np\n",
    "import pandas as pd\n",
    "import matplotlib.pyplot as plt\n"
   ]
  },
  {
   "cell_type": "code",
   "execution_count": 3,
   "id": "31418af1",
   "metadata": {},
   "outputs": [],
   "source": [
    "image = cv2.imread(\"card_king.jpg\",1)\n",
    "cv2.imshow(\"Card King\" , image)\n",
    "cv2.waitKey(0)\n",
    "cv2.destroyAllWindows()"
   ]
  },
  {
   "cell_type": "code",
   "execution_count": 4,
   "id": "595caffe",
   "metadata": {},
   "outputs": [
    {
     "name": "stdout",
     "output_type": "stream",
     "text": [
      "[[190. 162.]\n",
      " [417.  49.]\n",
      " [351. 490.]\n",
      " [588. 372.]]\n"
     ]
    }
   ],
   "source": [
    "points = np.float32([[190,162],[417,49],[351,490],[588,372]])\n",
    "print(points)"
   ]
  },
  {
   "cell_type": "code",
   "execution_count": 12,
   "id": "761f2a6a",
   "metadata": {},
   "outputs": [
    {
     "data": {
      "text/plain": [
       "numpy.float32"
      ]
     },
     "execution_count": 12,
     "metadata": {},
     "output_type": "execute_result"
    }
   ],
   "source": [
    "type(points[0][1])"
   ]
  },
  {
   "cell_type": "code",
   "execution_count": 20,
   "id": "13554986",
   "metadata": {},
   "outputs": [],
   "source": [
    "import cv2\n",
    "import numpy as np\n",
    "import pandas as pd\n",
    "import matplotlib.pyplot as plt\n",
    "image = cv2.imread(\"card_king.jpg\",1)\n",
    "\n",
    "width , height = 250,400\n",
    "points1 = np.float32([[190,162],[417,49],[351,490],[588,372]])\n",
    "points2 = np.float32([[0,0] , [width , 0] , [0,height] , [width , height]])\n",
    "matrix = cv2.getPerspectiveTransform(points , points2)\n",
    "Output_image = cv2.warpPerspective(image , matrix , (width,height))\n",
    "\n",
    "for x in range(0,4):\n",
    "    cv2.circle(image,(int(points1[x][0]),int(points1[x][1])),5,(0,0,255),-1)\n",
    "\n",
    "cv2.imshow(\"Card King\" , image)\n",
    "cv2.imshow(\"Output Image\" , Output_image)\n",
    "cv2.waitKey(0)\n",
    "cv2.destroyAllWindows()"
   ]
  },
  {
   "cell_type": "code",
   "execution_count": null,
   "id": "cad868c9",
   "metadata": {},
   "outputs": [],
   "source": []
  }
 ],
 "metadata": {
  "kernelspec": {
   "display_name": "Python 3 (ipykernel)",
   "language": "python",
   "name": "python3"
  },
  "language_info": {
   "codemirror_mode": {
    "name": "ipython",
    "version": 3
   },
   "file_extension": ".py",
   "mimetype": "text/x-python",
   "name": "python",
   "nbconvert_exporter": "python",
   "pygments_lexer": "ipython3",
   "version": "3.10.4"
  }
 },
 "nbformat": 4,
 "nbformat_minor": 5
}
