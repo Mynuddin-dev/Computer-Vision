{
 "cells": [
  {
   "cell_type": "code",
   "execution_count": 1,
   "id": "c4f0f003",
   "metadata": {},
   "outputs": [],
   "source": [
    "import numpy as np\n",
    "import cv2\n",
    "import matplotlib.pyplot as plt\n",
    "# test difference between read as grayscale and convert grascale \n",
    "img1 = cv2.imread(\"Orange1.jpg\" , 0)\n",
    "img2 = cv2.imread(\"Orange1.jpg\" , 1)\n",
    "img2_gray = cv2.cvtColor(img2, cv2.COLOR_BGR2GRAY)\n",
    "\n",
    "\n",
    "cv2.imshow(\"Orange1\",img1)\n",
    "cv2.imshow(\"Orange2\",img2)\n",
    "cv2.imshow(\"Orange2gray\",img2_gray)\n",
    "\n",
    "cv2.waitKey(0)\n",
    "cv2.destroyAllWindows()"
   ]
  },
  {
   "cell_type": "markdown",
   "id": "8a0a5b2b",
   "metadata": {},
   "source": [
    "#### What are contours?\n",
    "---\n",
    "\n",
    "- Contours can be explained simply as a curve joining all the continuous points (along the boundary), having same color or intensity. The contours are a useful tool for shape analysis and object detection and recognition.\n",
    "\n",
    "    - For better accuracy, use binary images. So before finding contours, apply threshold or canny edge detection.\n",
    "    - Since OpenCV 3.2, findContours() no longer modifies the source image.\n",
    "    - In OpenCV, finding contours is like finding white object from black background. So remember, object to be found should be white and background should be black.\n",
    "\n",
    "[Contours : Getting Started | official docs](https://docs.opencv.org/4.x/d4/d73/tutorial_py_contours_begin.html)"
   ]
  },
  {
   "cell_type": "code",
   "execution_count": 9,
   "id": "6d63bc15",
   "metadata": {},
   "outputs": [
    {
     "name": "stdout",
     "output_type": "stream",
     "text": [
      "Number of contours = 4\n",
      "[[[0 0]]\n",
      "\n",
      " [[0 1]]\n",
      "\n",
      " [[0 2]]\n",
      "\n",
      " ...\n",
      "\n",
      " [[3 0]]\n",
      "\n",
      " [[2 0]]\n",
      "\n",
      " [[1 0]]]\n"
     ]
    }
   ],
   "source": [
    "import numpy as np\n",
    "import cv2\n",
    "import matplotlib.pyplot as plt\n",
    "# for contours binary image is best\n",
    "img = cv2.imread(\"logo.jpg\" , 1)\n",
    "imgray = cv2.imread(\"logo.jpg\" , 0)\n",
    "\n",
    "ret, thresh = cv2.threshold(imgray, 127, 255, 0)\n",
    "contours, hierarchy = cv2.findContours(thresh, cv2.RETR_TREE, cv2.CHAIN_APPROX_NONE)\n",
    "# check docstring\n",
    "print(\"Number of contours = \" + str(len(contours)))\n",
    "print(contours[0])\n",
    "\n",
    "cv2.drawContours(img, contours, 2, (0, 255, 0), 3) # 3 is thickness\n",
    "cv2.drawContours(imgray, contours, -1, (0, 255, 0), 3)\n",
    "# -1 means draw all contours \n",
    "\n",
    "cv2.imshow(\"logo1\",img)\n",
    "cv2.imshow(\"logoGray\",imgray)\n",
    "cv2.waitKey(0)\n",
    "cv2.destroyAllWindows()"
   ]
  },
  {
   "cell_type": "code",
   "execution_count": null,
   "id": "025f6924",
   "metadata": {},
   "outputs": [],
   "source": []
  }
 ],
 "metadata": {
  "kernelspec": {
   "display_name": "Python 3 (ipykernel)",
   "language": "python",
   "name": "python3"
  },
  "language_info": {
   "codemirror_mode": {
    "name": "ipython",
    "version": 3
   },
   "file_extension": ".py",
   "mimetype": "text/x-python",
   "name": "python",
   "nbconvert_exporter": "python",
   "pygments_lexer": "ipython3",
   "version": "3.10.4"
  }
 },
 "nbformat": 4,
 "nbformat_minor": 5
}
