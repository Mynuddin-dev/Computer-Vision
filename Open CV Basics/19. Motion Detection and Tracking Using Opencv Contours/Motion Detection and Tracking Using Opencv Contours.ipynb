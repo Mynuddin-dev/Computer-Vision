{
 "cells": [
  {
   "cell_type": "markdown",
   "id": "989a9741",
   "metadata": {},
   "source": [
    "[Detecting motion with OpenCV](https://towardsdatascience.com/image-analysis-for-beginners-creating-a-motion-detector-with-opencv-4ca6faba4b42)\n"
   ]
  },
  {
   "cell_type": "code",
   "execution_count": 2,
   "id": "ed854826",
   "metadata": {},
   "outputs": [],
   "source": [
    "import numpy as np\n",
    "import cv2\n",
    "import matplotlib.pyplot as plt"
   ]
  },
  {
   "cell_type": "code",
   "execution_count": 5,
   "id": "5b8a3ec1",
   "metadata": {},
   "outputs": [
    {
     "name": "stdout",
     "output_type": "stream",
     "text": [
      "(576, 768, 3)\n"
     ]
    }
   ],
   "source": [
    "\"\"\" \n",
    "1. Grayscale frame\n",
    "2.Gaussian blur and Subtraction operation between the background and the foreground.\n",
    "3.Threshold binary\n",
    "4.dilated # remember erosion\n",
    "5.Find Countours\n",
    "6.Draw Contours\n",
    "7.For better view draw rectangle in contours\n",
    "\"\"\"\n",
    "\n",
    "\n",
    "cap = cv2.VideoCapture('walking.avi')\n",
    "frame_width = int( cap.get(cv2.CAP_PROP_FRAME_WIDTH))\n",
    "\n",
    "frame_height =int( cap.get( cv2.CAP_PROP_FRAME_HEIGHT))\n",
    "\n",
    "fourcc = cv2.VideoWriter_fourcc('X','V','I','D')\n",
    "\n",
    "out = cv2.VideoWriter(\"output.avi\", fourcc, 6.0, (1280,720))\n",
    "\n",
    "ret, frame1 = cap.read()\n",
    "ret, frame2 = cap.read()\n",
    "\n",
    "print(frame1.shape)\n",
    "while cap.isOpened():\n",
    "    \n",
    "    diff = cv2.absdiff(frame1, frame2)\n",
    "    gray = cv2.cvtColor(diff, cv2.COLOR_BGR2GRAY)\n",
    "    blur = cv2.GaussianBlur(gray, (5,5), 0)\n",
    "    _, thresh = cv2.threshold(blur, 20, 255, cv2.THRESH_BINARY)\n",
    "    dilated = cv2.dilate(thresh, None, iterations=3)\n",
    "    contours, _ = cv2.findContours(dilated, cv2.RETR_TREE, cv2.CHAIN_APPROX_SIMPLE)\n",
    "\n",
    "    for contour in contours:\n",
    "        (x, y, w, h) = cv2.boundingRect(contour)\n",
    "\n",
    "        if cv2.contourArea(contour) < 900:\n",
    "            continue\n",
    "        cv2.rectangle(frame1, (x, y), (x+w, y+h), (0, 255, 0), 2)\n",
    "        cv2.putText(frame1, \"Status: {}\".format('Movement'), (10, 25), cv2.FONT_HERSHEY_SIMPLEX,\n",
    "                    1, (255, 0, 0), 2)\n",
    "#     cv2.drawContours(frame1, contours, -1, (0, 255, 0), 2)\n",
    "\n",
    "    image = cv2.resize(frame1, (1280,720))\n",
    "    out.write(image)\n",
    "    cv2.imshow(\"Movement detect\", frame1)\n",
    "    frame1 = frame2\n",
    "    ret, frame2 = cap.read()\n",
    "\n",
    "    if cv2.waitKey(40) == 27:\n",
    "        break\n",
    "\n",
    "cv2.destroyAllWindows()\n",
    "cap.release()\n",
    "out.release()"
   ]
  },
  {
   "cell_type": "code",
   "execution_count": 8,
   "id": "6de109b9",
   "metadata": {},
   "outputs": [
    {
     "name": "stdout",
     "output_type": "stream",
     "text": [
      "(576, 768, 3) (576, 768, 3)\n"
     ]
    }
   ],
   "source": [
    "print(frame1.shape,frame2.shape)"
   ]
  },
  {
   "cell_type": "code",
   "execution_count": null,
   "id": "c37fb579",
   "metadata": {},
   "outputs": [],
   "source": []
  }
 ],
 "metadata": {
  "kernelspec": {
   "display_name": "Python 3 (ipykernel)",
   "language": "python",
   "name": "python3"
  },
  "language_info": {
   "codemirror_mode": {
    "name": "ipython",
    "version": 3
   },
   "file_extension": ".py",
   "mimetype": "text/x-python",
   "name": "python",
   "nbconvert_exporter": "python",
   "pygments_lexer": "ipython3",
   "version": "3.10.4"
  }
 },
 "nbformat": 4,
 "nbformat_minor": 5
}
