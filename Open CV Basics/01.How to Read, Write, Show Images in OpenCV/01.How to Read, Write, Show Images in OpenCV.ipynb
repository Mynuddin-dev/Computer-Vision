{
 "cells": [
  {
   "cell_type": "code",
   "execution_count": 2,
   "id": "61874809",
   "metadata": {},
   "outputs": [],
   "source": [
    "import cv2 \n",
    "import numpy as np\n",
    "import matplotlib.pyplot as plt"
   ]
  },
  {
   "cell_type": "code",
   "execution_count": 3,
   "id": "7a52d34f",
   "metadata": {},
   "outputs": [
    {
     "name": "stdout",
     "output_type": "stream",
     "text": [
      "[[163 162 161 ... 170 154 130]\n",
      " [162 162 162 ... 173 155 126]\n",
      " [162 162 163 ... 170 155 128]\n",
      " ...\n",
      " [ 43  42  51 ... 103 101  99]\n",
      " [ 41  42  55 ... 103 105 106]\n",
      " [ 42  44  57 ... 102 106 109]]\n"
     ]
    }
   ],
   "source": [
    "image = cv2.imread(\"lena.jpg\",0)\n",
    "# image = cv2.imread(\"../Resource/lena.jpg\",1)\n",
    "# image = cv2.imread(\"../Resource/lena.jpg\",-1)\n",
    "\n",
    "print(image)\n",
    "cv2.imshow(\"Lena\" , image)\n",
    "# cv2.waitKey(8000)\n",
    "if cv2.waitKey(0) == 27: # Escape key\n",
    "    \n",
    "    cv2.destroyAllWindows()\n",
    "    \n",
    "elif cv2.waitKey(0) == ord('s'): # Save\n",
    "    \n",
    "    cv2.imwrite(\"Lena_Copy.png\",image)\n",
    "    cv2.destroyAllWindows()"
   ]
  },
  {
   "cell_type": "code",
   "execution_count": null,
   "id": "c33f438d",
   "metadata": {},
   "outputs": [],
   "source": []
  },
  {
   "cell_type": "code",
   "execution_count": null,
   "id": "6c0c4852",
   "metadata": {},
   "outputs": [],
   "source": []
  }
 ],
 "metadata": {
  "kernelspec": {
   "display_name": "Python 3 (ipykernel)",
   "language": "python",
   "name": "python3"
  },
  "language_info": {
   "codemirror_mode": {
    "name": "ipython",
    "version": 3
   },
   "file_extension": ".py",
   "mimetype": "text/x-python",
   "name": "python",
   "nbconvert_exporter": "python",
   "pygments_lexer": "ipython3",
   "version": "3.10.4"
  }
 },
 "nbformat": 4,
 "nbformat_minor": 5
}
