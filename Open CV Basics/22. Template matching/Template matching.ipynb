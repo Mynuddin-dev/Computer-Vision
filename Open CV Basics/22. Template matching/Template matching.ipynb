{
 "cells": [
  {
   "cell_type": "code",
   "execution_count": 1,
   "id": "ed6689c8",
   "metadata": {},
   "outputs": [],
   "source": [
    "import numpy as np\n",
    "import cv2 \n",
    "import matplotlib.pyplot as plt"
   ]
  },
  {
   "cell_type": "markdown",
   "id": "6a1eba31",
   "metadata": {},
   "source": [
    "```Template Matching is a method for searching and finding the location of a template image in a larger image. OpenCV comes with a function cv.matchTemplate() for this purpose. It simply slides the template image over the input image (as in 2D convolution) and compares the template and patch of input image under the template image. Several comparison methods are implemented in OpenCV. (You can check docs for more details). It returns a grayscale image, where each pixel denotes how much does the neighbourhood of that pixel match with template.```\n",
    "\n",
    "```If input image is of size (WxH) and template image is of size (wxh), output image will have a size of (W-w+1, H-h+1). Once you got the result, you can use cv.minMaxLoc() function to find where is the maximum/minimum value. Take it as the top-left corner of rectangle and take (w,h) as width and height of the rectangle. That rectangle is your region of template.```\n",
    "\n",
    "[Template matching doc](https://docs.opencv.org/4.x/d4/dc6/tutorial_py_template_matching.html)"
   ]
  },
  {
   "cell_type": "code",
   "execution_count": 3,
   "id": "6fbba507",
   "metadata": {},
   "outputs": [
    {
     "name": "stdout",
     "output_type": "stream",
     "text": [
      "[[ 0.01949345  0.00735425 -0.00512269 ...  0.2761873   0.27460277\n",
      "   0.2723134 ]\n",
      " [ 0.01730352  0.00557325 -0.00712244 ...  0.27638727  0.27478233\n",
      "   0.2724553 ]\n",
      " [ 0.01279503  0.00220269 -0.00974872 ...  0.2764313   0.27487203\n",
      "   0.27263612]\n",
      " ...\n",
      " [ 0.22203253  0.21895166  0.21550633 ...  0.1386588   0.14096388\n",
      "   0.14290102]\n",
      " [ 0.22029136  0.2169632   0.21342023 ...  0.14516468  0.1477074\n",
      "   0.14961495]\n",
      " [ 0.2183826   0.21464959  0.21102554 ...  0.1528884   0.15515035\n",
      "   0.15626372]]\n",
      "(array([], dtype=int64), array([], dtype=int64))\n"
     ]
    }
   ],
   "source": [
    "import cv2 as cv\n",
    "import numpy as np\n",
    "from matplotlib import pyplot as plt\n",
    "\n",
    "img_rgb = cv.imread('input_image.jpg')\n",
    "img_gray = cv.cvtColor(img_rgb, cv.COLOR_BGR2GRAY)\n",
    "template = cv.imread('template_image.jpg',0)\n",
    "\n",
    "w, h = template.shape[::-1]\n",
    "# print(template.shape)\n",
    "# print(template.shape[::])\n",
    "# print(template.shape[::-1])\n",
    "\n",
    "res = cv.matchTemplate(img_gray,template,cv.TM_CCOEFF_NORMED)\n",
    "print(res)\n",
    "threshold = 0.8\n",
    "loc = np.where( res >= threshold)\n",
    "print(loc)\n",
    "for pt in zip(*loc[::-1]):\n",
    "    cv.rectangle(img_rgb, pt, (pt[0] + w, pt[1] + h), (0,0,255), 2)\n",
    "# cv.imwrite('res.png',img_rgb)\n",
    "\n",
    "# cv2.imshow(\"img\", img_rgb)\n",
    "# cv2.waitKey(0)\n",
    "# cv2.destroyAllWindows()"
   ]
  },
  {
   "cell_type": "code",
   "execution_count": null,
   "id": "d2fa053d",
   "metadata": {},
   "outputs": [],
   "source": []
  }
 ],
 "metadata": {
  "kernelspec": {
   "display_name": "Python 3 (ipykernel)",
   "language": "python",
   "name": "python3"
  },
  "language_info": {
   "codemirror_mode": {
    "name": "ipython",
    "version": 3
   },
   "file_extension": ".py",
   "mimetype": "text/x-python",
   "name": "python",
   "nbconvert_exporter": "python",
   "pygments_lexer": "ipython3",
   "version": "3.10.4"
  }
 },
 "nbformat": 4,
 "nbformat_minor": 5
}
