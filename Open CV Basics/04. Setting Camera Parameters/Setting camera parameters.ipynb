{
 "cells": [
  {
   "cell_type": "code",
   "execution_count": 1,
   "id": "956093b4",
   "metadata": {
    "scrolled": false
   },
   "outputs": [
    {
     "name": "stdout",
     "output_type": "stream",
     "text": [
      "0.0\n",
      "0.1\n",
      "768.0\n",
      "576.0\n",
      "10.0\n",
      "863398244.0\n",
      "795.0\n",
      "0.0\n",
      "0.0\n",
      "0.0\n",
      "0.0\n",
      "0.0\n",
      "  \n",
      "768.0\n",
      "576.0\n",
      "10.0\n",
      "863398244.0\n",
      "795.0\n",
      "0.0\n",
      "0.0\n",
      "0.0\n",
      "0.0\n",
      "0.0\n"
     ]
    }
   ],
   "source": [
    "# https://github.com/Mynuddin-dev/Computer-Vision/tree/main/Open%20CV%20Basics/02.How%20to%20Read%2C%20Write%2C%20Show%20Videos%20from%20Camera\n",
    "\n",
    "import cv2\n",
    "cap = cv2.VideoCapture('walking.avi')\n",
    "\n",
    "print(cap.get(1))\n",
    "print(cap.get(2))\n",
    "print(cap.get(3)) # height\n",
    "print(cap.get(4)) # weight\n",
    "print(cap.get(5)) # fps\n",
    "print(cap.get(6)) \n",
    "print(cap.get(7)) # total frame\n",
    "print(cap.get(8))\n",
    "print(cap.get(10))\n",
    "print(cap.get(11))\n",
    "print(cap.get(12))\n",
    "print(cap.get(15))\n",
    "\n",
    "\n",
    "\n",
    "\n",
    "print(\"  \")\n",
    "\n",
    "print(cap.get(cv2.CAP_PROP_FRAME_WIDTH))\n",
    "print(cap.get(cv2.CAP_PROP_FRAME_HEIGHT))\n",
    "print(cap.get(cv2.CAP_PROP_FPS))\n",
    "print(cap.get(cv2.CAP_PROP_FOURCC))\n",
    "print(cap.get(cv2.CAP_PROP_FRAME_COUNT))\n",
    "print(cap.get(cv2.CAP_PROP_FORMAT))\n",
    "\n",
    "print(cap.get(cv2.CAP_PROP_BRIGHTNESS))\n",
    "print(cap.get(cv2.CAP_PROP_CONTRAST))\n",
    "print(cap.get(cv2.CAP_PROP_SATURATION))\n",
    "print(cap.get(cv2.CAP_PROP_EXPOSURE))\n"
   ]
  },
  {
   "cell_type": "code",
   "execution_count": 2,
   "id": "e42444de",
   "metadata": {},
   "outputs": [
    {
     "name": "stdout",
     "output_type": "stream",
     "text": [
      "640.0\n",
      "480.0\n",
      "30.0\n",
      "640.0\n",
      "360.0\n",
      "30.0\n"
     ]
    }
   ],
   "source": [
    "import cv2\n",
    "cap = cv2.VideoCapture(0)\n",
    "\n",
    "print(cap.get(cv2.CAP_PROP_FRAME_WIDTH))\n",
    "print(cap.get(cv2.CAP_PROP_FRAME_HEIGHT))\n",
    "print(cap.get(cv2.CAP_PROP_FPS))\n",
    "\n",
    "\n",
    "# https://docs.opencv.org/3.4/dd/d01/group__videoio__c.html\n",
    "\n",
    "\n",
    "cap.set(3, 640)\n",
    "cap.set(4, 360)\n",
    "\n",
    "# only available my laptop default camera resulation is work\n",
    "\n",
    "print(cap.get(3)) \n",
    "print(cap.get(4)) \n",
    "\n",
    "\n",
    "while(cap.isOpened()):\n",
    "    ret, frame = cap.read()\n",
    "    if ret == True:\n",
    "        \n",
    "        gray = cv2.cvtColor(frame, cv2.COLOR_BGR2GRAY)\n",
    "      \n",
    "        cv2.imshow('frame', gray)\n",
    "        if cv2.waitKey(1) & 0xFF == ord('q'):\n",
    "            break\n",
    "    else:\n",
    "        \n",
    "        break\n",
    "\n",
    "cap.release()\n",
    "cv2.destroyAllWindows()"
    
   ]
  },
  {
   "cell_type": "code",
   "execution_count": null,
   "id": "d179ab18",
   "metadata": {},
   "outputs": [],
   "source": []
  }
 ],
 "metadata": {
  "kernelspec": {
   "display_name": "Python 3 (ipykernel)",
   "language": "python",
   "name": "python3"
  },
  "language_info": {
   "codemirror_mode": {
    "name": "ipython",
    "version": 3
   },
   "file_extension": ".py",
   "mimetype": "text/x-python",
   "name": "python",
   "nbconvert_exporter": "python",
   "pygments_lexer": "ipython3",
   "version": "3.10.4"
  }
 },
 "nbformat": 4,
 "nbformat_minor": 5
}
