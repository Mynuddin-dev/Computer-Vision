{
 "cells": [
  {
   "cell_type": "code",
   "execution_count": 6,
   "id": "dccf191c",
   "metadata": {},
   "outputs": [],
   "source": [
    "import cv2\n",
    "import numpy as np\n",
    "import matplotlib.pyplot as plt\n",
    "\n",
    "image = cv2.imread(\"shapes.jpg\",0)\n",
    "cv2.imshow(\"Geometric Shape\",image)\n",
    "cv2.waitKey(0)\n",
    "cv2.destroyAllWindows()"
   ]
  },
  {
   "cell_type": "code",
   "execution_count": 15,
   "id": "67a265df",
   "metadata": {},
   "outputs": [
    {
     "name": "stdout",
     "output_type": "stream",
     "text": [
      "0.9619686800894854\n"
     ]
    }
   ],
   "source": [
    "# Check it \n",
    "# https://www.geeksforgeeks.org/how-to-detect-shapes-in-images-in-python-using-opencv/\n",
    "\n",
    "import numpy as np\n",
    "import cv2\n",
    "\n",
    "img = cv2.imread('shapes.png')\n",
    "imgGrey = cv2.cvtColor(img, cv2.COLOR_BGR2GRAY)\n",
    "_, thrash = cv2.threshold(imgGrey, 240, 255, cv2.THRESH_BINARY)\n",
    "contours, _ = cv2.findContours(thrash, cv2.RETR_TREE, cv2.CHAIN_APPROX_NONE)\n",
    "\n",
    "cv2.imshow(\"img\", img)\n",
    "for contour in contours:\n",
    "    approx = cv2.approxPolyDP(contour, 0.01* cv2.arcLength(contour, True), True)\n",
    "    cv2.drawContours(img, [approx], 0, (0, 0, 0), 5)\n",
    "    x = approx.ravel()[0]\n",
    "    y = approx.ravel()[1] - 10\n",
    "    if len(approx) == 3:\n",
    "        cv2.putText(img, \"Triangle\", (x, y), cv2.FONT_HERSHEY_COMPLEX, 0.5, (0, 0, 0))\n",
    "    elif len(approx) == 4:\n",
    "        x1 ,y1, w, h = cv2.boundingRect(approx)\n",
    "        aspectRatio = float(w)/h\n",
    "        print(aspectRatio)\n",
    "        if aspectRatio >= 0.95 and aspectRatio <= 1.05:\n",
    "          cv2.putText(img, \"square\", (x, y), cv2.FONT_HERSHEY_COMPLEX, 0.5, (0, 0, 0) , 2)\n",
    "        else:\n",
    "          cv2.putText(img, \"rectangle\", (x, y), cv2.FONT_HERSHEY_COMPLEX, 0.5, (0, 0, 0) , 2)\n",
    "    elif len(approx) == 5:\n",
    "        cv2.putText(img, \"Pentagon\", (x, y), cv2.FONT_HERSHEY_COMPLEX, 0.5, (0, 0, 0) , 2)\n",
    "    elif len(approx) == 10:\n",
    "        cv2.putText(img, \"Star\", (x, y), cv2.FONT_HERSHEY_COMPLEX, 0.5, (0, 0, 0), 2)\n",
    "    else:\n",
    "        cv2.putText(img, \"Circle\", (x, y), cv2.FONT_HERSHEY_COMPLEX, 0.5, (0, 0, 0), 2)\n",
    "\n",
    "\n",
    "cv2.imshow(\"shapes\", img)\n",
    "cv2.waitKey(0)\n",
    "cv2.destroyAllWindows()"
   ]
  },
  {
   "cell_type": "code",
   "execution_count": null,
   "id": "a6e620a9",
   "metadata": {},
   "outputs": [],
   "source": []
  }
 ],
 "metadata": {
  "kernelspec": {
   "display_name": "Python 3 (ipykernel)",
   "language": "python",
   "name": "python3"
  },
  "language_info": {
   "codemirror_mode": {
    "name": "ipython",
    "version": 3
   },
   "file_extension": ".py",
   "mimetype": "text/x-python",
   "name": "python",
   "nbconvert_exporter": "python",
   "pygments_lexer": "ipython3",
   "version": "3.10.4"
  }
 },
 "nbformat": 4,
 "nbformat_minor": 5
}
