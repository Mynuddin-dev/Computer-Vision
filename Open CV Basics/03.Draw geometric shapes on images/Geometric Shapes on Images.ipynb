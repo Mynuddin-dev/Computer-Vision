{
 "cells": [
  {
   "cell_type": "code",
   "execution_count": 12,
   "id": "c512f01a",
   "metadata": {},
   "outputs": [],
   "source": [
    "import numpy as np\n",
    "import cv2\n",
    "\n",
    "img = cv2.imread(\"lena.jpg\",1)\n",
    "\n",
    "# represents the top left corner of image\n",
    "start_point =(0,0)\n",
    "\n",
    "# represents the bottom right corner of image\n",
    "end_point =(512,512)\n",
    "\n",
    "color =(255,0,0)\n",
    "thickness = 3\n",
    "\n",
    "img = cv2.line(img , start_point , end_point , color , thickness)\n",
    "\n",
    "\n",
    "cv2.imshow(\"its Lena\",img)\n",
    "cv2.waitKey(5000)\n",
    "cv2.destroyAllWindows()"
   ]
  },
  {
   "cell_type": "code",
   "execution_count": 5,
   "id": "5968dd25",
   "metadata": {},
   "outputs": [
    {
     "data": {
      "text/plain": [
       "(512, 512, 3)"
      ]
     },
     "execution_count": 5,
     "metadata": {},
     "output_type": "execute_result"
    }
   ],
   "source": [
    "img.shape"
   ]
  },
  {
   "cell_type": "code",
   "execution_count": 50,
   "id": "1daa8399",
   "metadata": {},
   "outputs": [],
   "source": [
    "# img = cv2.imread(\"lena.jpg\",1)\n",
    "\n",
    "# Create a black image\n",
    "img = np.zeros((512,512,3), np.uint8)\n",
    "\n",
    "# Arrowline\n",
    "img = cv2.line(img , (0,0) , (255,255) , (255,0,0) , 4)\n",
    "img = cv2.arrowedLine(img , (0,255) , (255,255) , (255,0,0) , 4)\n",
    "\n",
    "\n",
    "# Rectangle\n",
    "# x1,y1-----------\n",
    "# |              |\n",
    "# |              |\n",
    "# |              |\n",
    "# |              |\n",
    "# |-----------x2,y2\n",
    "\n",
    "cv2.rectangle(img,(100,200),(400,400),(0,255,0),3)\n",
    "\n",
    "#Circle\n",
    "cv2.circle(img,(256,256), 100, (0,0,220), 2) #-1 FILLLED THE AREA , ALSO TRUE FOR OTHERS SHAPES\n",
    "\n",
    "\n",
    "# Put text\n",
    "cv2.putText(img , \"OpenCV\" , (80,500), cv2.FONT_HERSHEY_SIMPLEX , 2 , (0,255,0) , 2 , cv2.LINE_AA )\n",
    "\n",
    "\n",
    "cv2.imshow(\"its Lena\",img)\n",
    "cv2.waitKey(5000)\n",
    "cv2.destroyAllWindows()"
   ]
  },
  {
   "cell_type": "code",
   "execution_count": null,
   "id": "a864d70b",
   "metadata": {},
   "outputs": [],
   "source": []
  }
 ],
 "metadata": {
  "kernelspec": {
   "display_name": "Python 3 (ipykernel)",
   "language": "python",
   "name": "python3"
  },
  "language_info": {
   "codemirror_mode": {
    "name": "ipython",
    "version": 3
   },
   "file_extension": ".py",
   "mimetype": "text/x-python",
   "name": "python",
   "nbconvert_exporter": "python",
   "pygments_lexer": "ipython3",
   "version": "3.10.4"
  }
 },
 "nbformat": 4,
 "nbformat_minor": 5
}
