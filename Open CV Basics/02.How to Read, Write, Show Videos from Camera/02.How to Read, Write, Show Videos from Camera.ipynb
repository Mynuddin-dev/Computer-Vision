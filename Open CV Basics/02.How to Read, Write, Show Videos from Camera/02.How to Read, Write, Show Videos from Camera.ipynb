{
 "cells": [
  {
   "cell_type": "markdown",
   "id": "6478afbd",
   "metadata": {},
   "source": [
    "### Default Webcame"
   ]
  },
  {
   "cell_type": "code",
   "execution_count": 2,
   "id": "0b0c7eb2",
   "metadata": {},
   "outputs": [],
   "source": [
    "import cv2\n",
    "cap = cv2.VideoCapture(0) \n",
    "\n",
    "# 0 => Default camera 1 => secondary camera 2 => third camera\n",
    "\n",
    "while(cap.isOpened()):\n",
    "    \n",
    "    # if frame is available that means ret is true then frame is stored in \"frame\" variable\n",
    "    ret , frame =cap.read()\n",
    "#     print(cap.get(cv2.CAP_PROP_FPS))\n",
    "    cv2.imshow(\"Window Name\",frame)\n",
    "    \n",
    "        \n",
    "    key = cv2.waitKey(1)\n",
    "    if key == ord(\"q\"):\n",
    "        break\n",
    "\n",
    "cap.release() # Release the capture video\n",
    "cv2.destroyAllWindows()\n"
   ]
  },
  {
   "cell_type": "markdown",
   "id": "b115d3da",
   "metadata": {},
   "source": [
    "### Webcam grayscale"
   ]
  },
  {
   "cell_type": "code",
   "execution_count": 4,
   "id": "8f347988",
   "metadata": {},
   "outputs": [],
   "source": [
    "import cv2\n",
    "cap = cv2.VideoCapture(0) \n",
    "\n",
    "# 0 => Default camera 1 => secondary camera 2 => third camera\n",
    "\n",
    "while(cap.isOpened()):\n",
    "    \n",
    "    # if frame is available that means ret is true then frame is stored in \"frame\" variable\n",
    "    ret , frame =cap.read()\n",
    "    gray = cv2.cvtColor(frame , cv2.COLOR_BGR2GRAY)\n",
    "    cv2.imshow(\"Window Name\",gray)\n",
    "        \n",
    "    key = cv2.waitKey(1)\n",
    "    if key == ord(\"q\"):\n",
    "        break\n",
    "\n",
    "cap.release() # Release the capture video\n",
    "cv2.destroyAllWindows()"
   ]
  },
  {
   "cell_type": "markdown",
   "id": "7e074390",
   "metadata": {},
   "source": [
    "### Writing video from webcame"
   ]
  },
  {
   "cell_type": "code",
   "execution_count": 6,
   "id": "420581a9",
   "metadata": {},
   "outputs": [],
   "source": [
    "\n",
    "import cv2\n",
    "cap = cv2.VideoCapture(0) \n",
    "\n",
    "# 0 => Default camera 1 => secondary camera 2 => third camera\n",
    "\n",
    "fourcc = cv2.VideoWriter_fourcc(*'XVID') \n",
    "output = cv2.VideoWriter('output.avi',fourcc , 20.0 , (640,480))\n",
    "\n",
    "while(cap.isOpened()):\n",
    "    \n",
    "    # if frame is available that means ret is true then frame is stored in \"frame\" variable\n",
    "    ret , frame =cap.read()\n",
    "    \n",
    "#     print(cap.get(cv2.CAP_PROP_FRAME_WIDTH))\n",
    "#     print(cap.get(cv2.CAP_PROP_FRAME_HEIGHT))\n",
    "\n",
    "    if ret == True:\n",
    "        \n",
    "        output.write(frame)\n",
    "        cv2.imshow(\"Window Name\",frame)\n",
    "        key = cv2.waitKey(1)\n",
    "        \n",
    "        if key == ord(\"q\"):\n",
    "            break\n",
    "\n",
    "            \n",
    "    else:\n",
    "        break\n",
    "\n",
    "\n",
    "cap.release() # Release the capture video\n",
    "output.release()\n",
    "cv2.destroyAllWindows()\n"
   ]
  },
  {
   "cell_type": "markdown",
   "id": "ac52878b",
   "metadata": {},
   "source": [
    "### Writing grayscale video from webcame"
   ]
  },
  {
   "cell_type": "code",
   "execution_count": 5,
   "id": "19c4e2b9",
   "metadata": {},
   "outputs": [],
   "source": [
    "\n",
    "import cv2\n",
    "cap = cv2.VideoCapture(0) \n",
    "\n",
    "# 0 => Default camera 1 => secondary camera 2 => third camera\n",
    "\n",
    "fourcc = cv2.VideoWriter_fourcc('P','I','M','1')\n",
    "output2 = cv2.VideoWriter('output_gray.avi',fourcc , 30.0 , (640,480), isColor=False)\n",
    "\n",
    "while(cap.isOpened()):\n",
    "    \n",
    "    # if frame is available that means ret is true then frame is stored in \"frame\" variable\n",
    "    ret , frame =cap.read()\n",
    "    \n",
    "    if ret == True:\n",
    "        gray_frame = cv2.cvtColor(frame , cv2.COLOR_BGR2GRAY)\n",
    "        \n",
    "        cv2.imshow(\"Window Name\",gray_frame)\n",
    "        output2.write(gray_frame)\n",
    "\n",
    "        key = cv2.waitKey(1)\n",
    "        \n",
    "        if key == ord(\"q\"):\n",
    "            break\n",
    "\n",
    "            \n",
    "    else:\n",
    "        break\n",
    "\n",
    "\n",
    "cap.release() # Release the capture video\n",
    "output2.release()\n",
    "cv2.destroyAllWindows()\n"
   ]
  },
  {
   "cell_type": "code",
   "execution_count": null,
   "id": "435f539a",
   "metadata": {},
   "outputs": [],
   "source": []
  },
  {
   "cell_type": "code",
   "execution_count": null,
   "id": "190b2fba",
   "metadata": {},
   "outputs": [],
   "source": []
  },
  {
   "cell_type": "code",
   "execution_count": null,
   "id": "c9c09f14",
   "metadata": {},
   "outputs": [],
   "source": []
  },
  {
   "cell_type": "code",
   "execution_count": 6,
   "id": "5c04ac6c",
   "metadata": {},
   "outputs": [],
   "source": [
    "import cv2\n",
    "cap = cv2.VideoCapture(\"walking.avi\") # 0 => Default camera 1 => secondary camera 2 => third camera\n",
    "\n",
    "while(cap.isOpened()):\n",
    "    \n",
    "    # if frame is available that means ret is true then frame is stored in \"frame\" variable\n",
    "    ret , frame =cap.read()\n",
    "    \n",
    "    if ret:  \n",
    "        # Our operations on the frame come here        \n",
    "        gray=cv2.cvtColor(frame, cv2.COLOR_BGR2GRAY)\n",
    "        cv2.imshow(\"Window Name\",gray)\n",
    "        \n",
    "        key = cv2.waitKey(1)\n",
    "        if key == ord(\"q\"):\n",
    "            break\n",
    "\n",
    "    else:\n",
    "        print(\"Can't receive frame (stream end?). Exiting ...\")\n",
    "        print(ret)\n",
    "        break\n",
    "\n",
    "\n",
    "cap.release() # Release the capture video\n",
    "\n",
    "cv2.destroyAllWindows()"
   ]
  },
  {
   "cell_type": "code",
   "execution_count": 18,
   "id": "b3f76964",
   "metadata": {},
   "outputs": [
    {
     "name": "stdout",
     "output_type": "stream",
     "text": [
      "Can't receive frame (stream end?). Exiting ...\n",
      "False\n"
     ]
    }
   ],
   "source": [
    "import cv2\n",
    "\n",
    "source = cv2.VideoCapture('walking.avi')\n",
    " \n",
    "while (source.isOpened()):\n",
    "\n",
    "    ret, img = source.read()\n",
    "    \n",
    "    if ret:\n",
    "        cv2.imshow(\"Live\", img)\n",
    "        \n",
    "        key = cv2.waitKey(1)\n",
    "        if key == ord(\"q\"):\n",
    "            break\n",
    "\n",
    "    else:\n",
    "        print(\"Can't receive frame (stream end?). Exiting ...\")\n",
    "        print(ret)\n",
    "        break\n",
    " \n",
    "    \n",
    "     \n",
    "# closing the window\n",
    "cv2.destroyAllWindows()\n",
    "source.release()"
   ]
  },
  {
   "cell_type": "code",
   "execution_count": null,
   "id": "d82f8154",
   "metadata": {},
   "outputs": [],
   "source": []
  },
  {
   "cell_type": "markdown",
   "id": "8fcccaee",
   "metadata": {},
   "source": [
    "### Take Photo from webcam"
   ]
  },
  {
   "cell_type": "code",
   "execution_count": 10,
   "id": "f1d9dd79",
   "metadata": {},
   "outputs": [],
   "source": [
    "import cv2\n",
    "\n",
    "def take_photo():\n",
    "    cap = cv2.VideoCapture(0) \n",
    "    ret , frame = cap.read()\n",
    "    cv2.imwrite(\"SS.png\",frame)\n",
    "    cap.release()\n",
    "    "
   ]
  },
  {
   "cell_type": "code",
   "execution_count": 12,
   "id": "9713bc9a",
   "metadata": {},
   "outputs": [],
   "source": [
    "take_photo()"
   ]
  },
  {
   "cell_type": "code",
   "execution_count": null,
   "id": "91c36e62",
   "metadata": {},
   "outputs": [],
   "source": []
  },
  {
   "cell_type": "code",
   "execution_count": null,
   "id": "1112db1d",
   "metadata": {},
   "outputs": [],
   "source": []
  },
  {
   "cell_type": "code",
   "execution_count": 8,
   "id": "6468f641",
   "metadata": {},
   "outputs": [
    {
     "name": "stdout",
     "output_type": "stream",
     "text": [
      "0.0\n",
      "0.1\n",
      "768.0\n",
      "576.0\n",
      "10.0\n",
      "863398244.0\n",
      "795.0\n",
      "10.0\n"
     ]
    }
   ],
   "source": [
    "import cv2\n",
    "source = cv2.VideoCapture('walking.avi')\n",
    "print(source.get(1))\n",
    "\n",
    "print(source.get(2))\n",
    "print(source.get(3)) # height\n",
    "print(source.get(4)) # weight\n",
    "print(source.get(5)) # fps\n",
    "print(source.get(6)) \n",
    "print(source.get(7)) # total frame\n",
    "\n",
    "print(source.get(cv2.CAP_PROP_FPS))"
   ]
  },
  {
   "cell_type": "code",
   "execution_count": 9,
   "id": "5f9ebb4c",
   "metadata": {},
   "outputs": [],
   "source": [
    "def find_max(nums):\n",
    "    max_num = float(\"-inf\") # smaller than all other numbers\n",
    "    for num in nums:\n",
    "        if num > max_num:\n",
    "            max_num=num\n",
    "         # (Fill in the missing line here)\n",
    "    return max_num"
   ]
  },
  {
   "cell_type": "code",
   "execution_count": 10,
   "id": "9784eff9",
   "metadata": {},
   "outputs": [
    {
     "name": "stdout",
     "output_type": "stream",
     "text": [
      "9\n"
     ]
    }
   ],
   "source": [
    "numb=[3,4,8,1,3,9]\n",
    "print(find_max(numb))"
   ]
  },
  {
   "cell_type": "code",
   "execution_count": 11,
   "id": "523bb437",
   "metadata": {},
   "outputs": [],
   "source": [
    "def add_one(x):\n",
    "    return x+1\n",
    "\n",
    "\n",
    "def doubleit(x):\n",
    "    return x+x\n",
    "    \n",
    "def comp1(x):\n",
    "    return add_one(doubleit(x))\n",
    "def comp2(x):\n",
    "    return doubleit(add_one(x))"
   ]
  },
  {
   "cell_type": "code",
   "execution_count": 12,
   "id": "0c36d7f9",
   "metadata": {},
   "outputs": [
    {
     "data": {
      "text/plain": [
       "12"
      ]
     },
     "execution_count": 12,
     "metadata": {},
     "output_type": "execute_result"
    }
   ],
   "source": [
    "comp2(5)"
   ]
  },
  {
   "cell_type": "code",
   "execution_count": 13,
   "id": "9845f67f",
   "metadata": {},
   "outputs": [
    {
     "data": {
      "text/plain": [
       "11"
      ]
     },
     "execution_count": 13,
     "metadata": {},
     "output_type": "execute_result"
    }
   ],
   "source": [
    "comp1(5)"
   ]
  },
  {
   "cell_type": "code",
   "execution_count": null,
   "id": "29014912",
   "metadata": {},
   "outputs": [],
   "source": []
  }
 ],
 "metadata": {
  "kernelspec": {
   "display_name": "Python 3 (ipykernel)",
   "language": "python",
   "name": "python3"
  },
  "language_info": {
   "codemirror_mode": {
    "name": "ipython",
    "version": 3
   },
   "file_extension": ".py",
   "mimetype": "text/x-python",
   "name": "python",
   "nbconvert_exporter": "python",
   "pygments_lexer": "ipython3",
   "version": "3.10.4"
  }
 },
 "nbformat": 4,
 "nbformat_minor": 5
}
